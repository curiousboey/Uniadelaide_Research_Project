{
 "cells": [
  {
   "cell_type": "code",
   "execution_count": 1,
   "id": "d9665892",
   "metadata": {},
   "outputs": [
    {
     "name": "stdout",
     "output_type": "stream",
     "text": [
      "Requirement already satisfied: requests in c:\\users\\master\\anaconda3\\lib\\site-packages (2.27.1)\n",
      "Requirement already satisfied: openpyxl in c:\\users\\master\\anaconda3\\lib\\site-packages (3.0.9)\n",
      "Requirement already satisfied: pandas in c:\\users\\master\\anaconda3\\lib\\site-packages (1.4.2)\n",
      "Requirement already satisfied: charset-normalizer~=2.0.0 in c:\\users\\master\\anaconda3\\lib\\site-packages (from requests) (2.0.4)\n",
      "Requirement already satisfied: urllib3<1.27,>=1.21.1 in c:\\users\\master\\anaconda3\\lib\\site-packages (from requests) (1.26.9)\n",
      "Requirement already satisfied: certifi>=2017.4.17 in c:\\users\\master\\anaconda3\\lib\\site-packages (from requests) (2021.10.8)\n",
      "Requirement already satisfied: idna<4,>=2.5 in c:\\users\\master\\anaconda3\\lib\\site-packages (from requests) (3.3)\n",
      "Requirement already satisfied: et-xmlfile in c:\\users\\master\\anaconda3\\lib\\site-packages (from openpyxl) (1.1.0)\n",
      "Requirement already satisfied: python-dateutil>=2.8.1 in c:\\users\\master\\anaconda3\\lib\\site-packages (from pandas) (2.8.2)\n",
      "Requirement already satisfied: pytz>=2020.1 in c:\\users\\master\\anaconda3\\lib\\site-packages (from pandas) (2021.3)\n",
      "Requirement already satisfied: numpy>=1.18.5 in c:\\users\\master\\anaconda3\\lib\\site-packages (from pandas) (1.24.3)\n",
      "Requirement already satisfied: six>=1.5 in c:\\users\\master\\anaconda3\\lib\\site-packages (from python-dateutil>=2.8.1->pandas) (1.16.0)\n"
     ]
    }
   ],
   "source": [
    "!pip install requests openpyxl pandas\n"
   ]
  },
  {
   "cell_type": "code",
   "execution_count": null,
   "id": "3c54eba3",
   "metadata": {},
   "outputs": [],
   "source": [
    "import requests\n",
    "import pandas as pd\n",
    "from openpyxl import Workbook\n",
    "from openpyxl.utils.dataframe import dataframe_to_rows\n",
    "\n",
    "def get_github_repository_vulnerabilities(github_token, repository):\n",
    "    headers = {\n",
    "        'Authorization': f'Bearer {github_token}'\n",
    "    }\n",
    "\n",
    "    response = requests.get(f'https://api.github.com/repos/{repository}/vulnerability-alerts', headers=headers)\n",
    "\n",
    "    if response.status_code == 200:\n",
    "        return response.json().get('data', {}).get('securityVulnerabilities', [])\n",
    "    else:\n",
    "        print(f\"Error getting vulnerabilities from GitHub API: {response.status_code}\")\n",
    "        return []\n",
    "\n",
    "def get_snyk_project_vulnerabilities(snyk_token, org, project):\n",
    "    headers = {\n",
    "        'Authorization': f'token {snyk_token}'\n",
    "    }\n",
    "\n",
    "    response = requests.get(f'https://snyk.io/api/v1/org/{org}/project/{project}', headers=headers)\n",
    "\n",
    "    if response.status_code == 200:\n",
    "        return response.json().get('vulnerabilities', [])\n",
    "    else:\n",
    "        print(f\"Error getting vulnerabilities from Snyk API: {response.status_code}\")\n",
    "        return []\n",
    "\n",
    "def main():\n",
    "    github_token = 'YOUR_GITHUB_TOKEN'\n",
    "    snyk_token = 'YOUR_SNKY_TOKEN'\n",
    "    github_repository = 'owner/repo'  # replace with your GitHub repository in the 'owner/repo' format\n",
    "    snyk_organization = 'your-snyk-org'\n",
    "    snyk_project = 'your-snyk-project'\n",
    "\n",
    "    github_vulnerabilities = get_github_repository_vulnerabilities(github_token, github_repository)\n",
    "    snyk_vulnerabilities = get_snyk_project_vulnerabilities(snyk_token, snyk_organization, snyk_project)\n",
    "\n",
    "    # Process and combine data as needed\n",
    "    combined_data = {\n",
    "        'GitHub Vulnerabilities': github_vulnerabilities,\n",
    "        'Snyk Vulnerabilities': snyk_vulnerabilities,\n",
    "    }\n",
    "\n",
    "    # Export data to Excel\n",
    "    wb = Workbook()\n",
    "    for sheet_name, data in combined_data.items():\n",
    "        df = pd.DataFrame(data)\n",
    "        ws = wb.create_sheet(title=sheet_name)\n",
    "        for row in dataframe_to_rows(df, index=False, header=True):\n",
    "            ws.append(row)\n",
    "\n",
    "    # Save the Excel file\n",
    "    wb.save('vulnerability_data.xlsx')\n",
    "\n",
    "if __name__ == \"__main__\":\n",
    "    main()\n"
   ]
  }
 ],
 "metadata": {
  "kernelspec": {
   "display_name": "Python 3 (ipykernel)",
   "language": "python",
   "name": "python3"
  },
  "language_info": {
   "codemirror_mode": {
    "name": "ipython",
    "version": 3
   },
   "file_extension": ".py",
   "mimetype": "text/x-python",
   "name": "python",
   "nbconvert_exporter": "python",
   "pygments_lexer": "ipython3",
   "version": "3.9.12"
  }
 },
 "nbformat": 4,
 "nbformat_minor": 5
}
